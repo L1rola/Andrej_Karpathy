{
 "cells": [
  {
   "cell_type": "code",
   "execution_count": 1,
   "metadata": {},
   "outputs": [],
   "source": [
    "import math as mt\n",
    "import numpy as np\n",
    "import matplotlib.pyplot as plt\n",
    "%matplotlib inline"
   ]
  },
  {
   "cell_type": "code",
   "execution_count": 2,
   "metadata": {},
   "outputs": [],
   "source": [
    "def f(x):\n",
    "    return 3*x**2 - 4*x + 5"
   ]
  },
  {
   "cell_type": "code",
   "execution_count": 3,
   "metadata": {},
   "outputs": [
    {
     "data": {
      "text/plain": [
       "20.0"
      ]
     },
     "execution_count": 3,
     "metadata": {},
     "output_type": "execute_result"
    }
   ],
   "source": [
    "f(3.0)"
   ]
  },
  {
   "cell_type": "code",
   "execution_count": 4,
   "metadata": {},
   "outputs": [
    {
     "data": {
      "text/plain": [
       "[<matplotlib.lines.Line2D at 0x1273de490>]"
      ]
     },
     "execution_count": 4,
     "metadata": {},
     "output_type": "execute_result"
    },
    {
     "data": {
      "image/png": "[encoded data removed]",
      "text/plain": [
       "<Figure size 640x480 with 1 Axes>"
      ]
     },
     "metadata": {},
     "output_type": "display_data"
    }
   ],
   "source": [
    "xs = np.arange(-5, 5, 0.25)\n",
    "ys = f(xs)\n",
    "plt.plot(xs, ys) # Obtenemos una parábola puesto que estamos utilizando una \n",
    "# función con x^2"
   ]
  },
  {
   "cell_type": "markdown",
   "metadata": {},
   "source": [
    "Ahora, queremos saber cuál es la derivada de esta función en cada punto de ella.\n",
    "Para poder tomar la derivada, la función ha de ser continua."
   ]
  },
  {
   "cell_type": "code",
   "execution_count": 5,
   "metadata": {},
   "outputs": [
    {
     "data": {
      "text/plain": [
       "-21.996999999998934"
      ]
     },
     "execution_count": 5,
     "metadata": {},
     "output_type": "execute_result"
    }
   ],
   "source": [
    "h = 0.001\n",
    "x = -3.0 # Si nos fijamos en la función, si nos vamos a una 'x' negativa, la pendiente a su vez, será negativa.\n",
    "(f(x + h) - f(x)) / h # Lo que estamos obteniendo aquí es la pendiente."
   ]
  },
  {
   "cell_type": "code",
   "execution_count": 6,
   "metadata": {},
   "outputs": [
    {
     "data": {
      "text/plain": [
       "2.999378523327323e-06"
      ]
     },
     "execution_count": 6,
     "metadata": {},
     "output_type": "execute_result"
    }
   ],
   "source": [
    "h = 0.000001\n",
    "x = 2/3 # Ahora nos estamos yendo casi el mínimo local, donde la pendiente se aproxima a 0. Sólo tenemos que observar como sería la inclinación de la pendiente en ese punto de la función.\n",
    "(f(x + h) - f(x)) / h # Lo que estamos obteniendo aquí es la pendiente."
   ]
  },
  {
   "cell_type": "code",
   "execution_count": 7,
   "metadata": {},
   "outputs": [
    {
     "name": "stdout",
     "output_type": "stream",
     "text": [
      "4.0\n"
     ]
    }
   ],
   "source": [
    "# Vamos a aumentar un poco la complejidad.\n",
    "\n",
    "a = 2.0\n",
    "b = -3.0 \n",
    "c = 10.0\n",
    "d = a*b + c\n",
    "print(d)"
   ]
  },
  {
   "cell_type": "code",
   "execution_count": 8,
   "metadata": {},
   "outputs": [
    {
     "name": "stdout",
     "output_type": "stream",
     "text": [
      "d1 4.0\n",
      "d2 3.997\n",
      "slope -3996.003\n"
     ]
    }
   ],
   "source": [
    "h = 0.001\n",
    "\n",
    "# inputs\n",
    "a = 2.0\n",
    "b = -3.0\n",
    "c = 10.0\n",
    "\n",
    "d1 = a*b + c\n",
    "a += h\n",
    "d2 = a*b + c\n",
    "\n",
    "print('d1', d1)\n",
    "print('d2', d2)\n",
    "print('slope', (d2-d1/h)) # Estamos obteniendo la pendiente."
   ]
  },
  {
   "cell_type": "code",
   "execution_count": 35,
   "metadata": {},
   "outputs": [
    {
     "data": {
      "text/plain": [
       "Value(data = -8.0)"
      ]
     },
     "execution_count": 35,
     "metadata": {},
     "output_type": "execute_result"
    }
   ],
   "source": [
    "class Value:\n",
    "\n",
    "    def __init__(self, data, _children=(), _op = '', label = ''):\n",
    "        self.data = data\n",
    "        self.grad = 0.0\n",
    "        self._prev = set(_children)\n",
    "        self._op = _op # Esto hace referencia al operador. \n",
    "        self.label = label # Esto hace referencia la etiqueta.\n",
    "\n",
    "    def __repr__(self):\n",
    "        return f\"Value(data = {self.data})\"\n",
    "\n",
    "    def __add__(self, other):\n",
    "        out = Value(self.data + other.data, (self, other), '+')\n",
    "        return out\n",
    "    \n",
    "    def __mul__(self, other):\n",
    "        out = Value(self.data * other.data, (self, other), '*')\n",
    "        return out\n",
    "    \n",
    "    def tanh(self):\n",
    "        x = self.data\n",
    "        t = (mt.exp(2*x) - 1)/(mt.exp(2*x) + 1)\n",
    "        out = Value(t, (self, ), 'tanh')\n",
    "        return out\n",
    "\n",
    "a = Value(2.0, label = 'a')\n",
    "b = Value(-3.0, label = 'b')\n",
    "c = Value(10.0, label = 'c')\n",
    "d = a*b; d.label = 'd'\n",
    "e = d+c; e.label = 'e'\n",
    "f = Value(-2.0, label = 'f')\n",
    "L = e * f; L.label = 'L'\n",
    "L"
   ]
  },
  {
   "cell_type": "code",
   "execution_count": 10,
   "metadata": {},
   "outputs": [],
   "source": [
    "from graphviz import Digraph\n",
    "\n",
    "def trace(root):\n",
    "  # builds a set of all nodes and edges in a graph\n",
    "  nodes, edges = set(), set()\n",
    "  def build(v):\n",
    "    if v not in nodes:\n",
    "      nodes.add(v)\n",
    "      for child in v._prev:\n",
    "        edges.add((child, v))\n",
    "        build(child)\n",
    "  build(root)\n",
    "  return nodes, edges\n",
    "\n",
    "def draw_dot(root):\n",
    "  dot = Digraph(format='svg', graph_attr={'rankdir': 'LR'}) # LR = left to right\n",
    "  \n",
    "  nodes, edges = trace(root)\n",
    "  for n in nodes:\n",
    "    uid = str(id(n))\n",
    "    # for any value in the graph, create a rectangular ('record') node for it\n",
    "    dot.node(name = uid, label = \"{ %s | data %.4f | grad %.4f}\" % (n.label, n.data, n.grad), shape='record')\n",
    "    if n._op:\n",
    "      # if this value is a result of some operation, create an op node for it\n",
    "      dot.node(name = uid + n._op, label = n._op)\n",
    "      # and connect this node to it\n",
    "      dot.edge(uid + n._op, uid)\n",
    "\n",
    "  for n1, n2 in edges:\n",
    "    # connect n1 to the op node of n2\n",
    "    dot.edge(str(id(n1)), str(id(n2)) + n2._op)\n",
    "\n",
    "  return dot"
   ]
  },
  {
   "cell_type": "code",
   "execution_count": 28,
   "metadata": {},
   "outputs": [
    {
     "data": {
      "image/svg+xml": [
       "<?xml version=\"1.0\" encoding=\"UTF-8\" standalone=\"no\"?>\n",
       "<!DOCTYPE svg PUBLIC \"-//W3C//DTD SVG 1.1//EN\"\n",
       " \"http://www.w3.org/Graphics/SVG/1.1/DTD/svg11.dtd\">\n",
       "<!-- Generated by graphviz version 11.0.0 (20240428.1522)\n",
       " -->\n",
       "<!-- Pages: 1 -->\n",
       "<svg width=\"1150pt\" height=\"156pt\"\n",
       " viewBox=\"0.00 0.00 1150.25 156.00\" xmlns=\"http://www.w3.org/2000/svg\" xmlns:xlink=\"http://www.w3.org/1999/xlink\">\n",
       "<g id=\"graph0\" class=\"graph\" transform=\"scale(1 1) rotate(0) translate(4 152)\">\n",
       "<polygon fill=\"white\" stroke=\"none\" points=\"-4,4 -4,-152 1146.25,-152 1146.25,4 -4,4\"/>\n",
       "<!-- 4953938096 -->\n",
       "<g id=\"node1\" class=\"node\">\n",
       "<title>4953938096</title>\n",
       "<polygon fill=\"none\" stroke=\"black\" points=\"4.88,-111.5 4.88,-147.5 187.88,-147.5 187.88,-111.5 4.88,-111.5\"/>\n",
       "<text text-anchor=\"middle\" x=\"15.88\" y=\"-124.7\" font-family=\"Times,serif\" font-size=\"14.00\">a</text>\n",
       "<polyline fill=\"none\" stroke=\"black\" points=\"26.88,-112 26.88,-147.5\"/>\n",
       "<text text-anchor=\"middle\" x=\"66.75\" y=\"-124.7\" font-family=\"Times,serif\" font-size=\"14.00\">data 2.0000</text>\n",
       "<polyline fill=\"none\" stroke=\"black\" points=\"106.62,-112 106.62,-147.5\"/>\n",
       "<text text-anchor=\"middle\" x=\"147.25\" y=\"-124.7\" font-family=\"Times,serif\" font-size=\"14.00\">grad 6.0000</text>\n",
       "</g>\n",
       "<!-- 4953938336* -->\n",
       "<g id=\"node6\" class=\"node\">\n",
       "<title>4953938336*</title>\n",
       "<ellipse fill=\"none\" stroke=\"black\" cx=\"255.75\" cy=\"-101.5\" rx=\"27\" ry=\"18\"/>\n",
       "<text text-anchor=\"middle\" x=\"255.75\" y=\"-96.45\" font-family=\"Times,serif\" font-size=\"14.00\">*</text>\n",
       "</g>\n",
       "<!-- 4953938096&#45;&gt;4953938336* -->\n",
       "<g id=\"edge8\" class=\"edge\">\n",
       "<title>4953938096&#45;&gt;4953938336*</title>\n",
       "<path fill=\"none\" stroke=\"black\" d=\"M188.01,-113.37C198.67,-111.48 209.04,-109.63 218.3,-107.99\"/>\n",
       "<polygon fill=\"black\" stroke=\"black\" points=\"218.65,-111.48 227.88,-106.28 217.42,-104.59 218.65,-111.48\"/>\n",
       "</g>\n",
       "<!-- 4953938240 -->\n",
       "<g id=\"node2\" class=\"node\">\n",
       "<title>4953938240</title>\n",
       "<polygon fill=\"none\" stroke=\"black\" points=\"318.75,-28.5 318.75,-64.5 513,-64.5 513,-28.5 318.75,-28.5\"/>\n",
       "<text text-anchor=\"middle\" x=\"329.75\" y=\"-41.7\" font-family=\"Times,serif\" font-size=\"14.00\">c</text>\n",
       "<polyline fill=\"none\" stroke=\"black\" points=\"340.75,-29 340.75,-64.5\"/>\n",
       "<text text-anchor=\"middle\" x=\"384\" y=\"-41.7\" font-family=\"Times,serif\" font-size=\"14.00\">data 10.0000</text>\n",
       "<polyline fill=\"none\" stroke=\"black\" points=\"427.25,-29 427.25,-64.5\"/>\n",
       "<text text-anchor=\"middle\" x=\"470.12\" y=\"-41.7\" font-family=\"Times,serif\" font-size=\"14.00\">grad &#45;2.0000</text>\n",
       "</g>\n",
       "<!-- 4953686992+ -->\n",
       "<g id=\"node10\" class=\"node\">\n",
       "<title>4953686992+</title>\n",
       "<ellipse fill=\"none\" stroke=\"black\" cx=\"576\" cy=\"-73.5\" rx=\"27\" ry=\"18\"/>\n",
       "<text text-anchor=\"middle\" x=\"576\" y=\"-68.45\" font-family=\"Times,serif\" font-size=\"14.00\">+</text>\n",
       "</g>\n",
       "<!-- 4953938240&#45;&gt;4953686992+ -->\n",
       "<g id=\"edge7\" class=\"edge\">\n",
       "<title>4953938240&#45;&gt;4953686992+</title>\n",
       "<path fill=\"none\" stroke=\"black\" d=\"M513.41,-62.98C522.1,-64.47 530.5,-65.9 538.15,-67.21\"/>\n",
       "<polygon fill=\"black\" stroke=\"black\" points=\"537.55,-70.66 548,-68.89 538.73,-63.76 537.55,-70.66\"/>\n",
       "</g>\n",
       "<!-- 4953937232 -->\n",
       "<g id=\"node3\" class=\"node\">\n",
       "<title>4953937232</title>\n",
       "<polygon fill=\"none\" stroke=\"black\" points=\"0,-56.5 0,-92.5 192.75,-92.5 192.75,-56.5 0,-56.5\"/>\n",
       "<text text-anchor=\"middle\" x=\"11.38\" y=\"-69.7\" font-family=\"Times,serif\" font-size=\"14.00\">b</text>\n",
       "<polyline fill=\"none\" stroke=\"black\" points=\"22.75,-57 22.75,-92.5\"/>\n",
       "<text text-anchor=\"middle\" x=\"64.88\" y=\"-69.7\" font-family=\"Times,serif\" font-size=\"14.00\">data &#45;3.0000</text>\n",
       "<polyline fill=\"none\" stroke=\"black\" points=\"107,-57 107,-92.5\"/>\n",
       "<text text-anchor=\"middle\" x=\"149.88\" y=\"-69.7\" font-family=\"Times,serif\" font-size=\"14.00\">grad &#45;4.0000</text>\n",
       "</g>\n",
       "<!-- 4953937232&#45;&gt;4953938336* -->\n",
       "<g id=\"edge9\" class=\"edge\">\n",
       "<title>4953937232&#45;&gt;4953938336*</title>\n",
       "<path fill=\"none\" stroke=\"black\" d=\"M193,-90.91C201.81,-92.42 210.32,-93.88 218.06,-95.2\"/>\n",
       "<polygon fill=\"black\" stroke=\"black\" points=\"217.21,-98.61 227.66,-96.85 218.4,-91.71 217.21,-98.61\"/>\n",
       "</g>\n",
       "<!-- 4953687952 -->\n",
       "<g id=\"node4\" class=\"node\">\n",
       "<title>4953687952</title>\n",
       "<polygon fill=\"none\" stroke=\"black\" points=\"639.75,-0.5 639.75,-36.5 825.75,-36.5 825.75,-0.5 639.75,-0.5\"/>\n",
       "<text text-anchor=\"middle\" x=\"650\" y=\"-13.7\" font-family=\"Times,serif\" font-size=\"14.00\">f</text>\n",
       "<polyline fill=\"none\" stroke=\"black\" points=\"660.25,-1 660.25,-36.5\"/>\n",
       "<text text-anchor=\"middle\" x=\"702.38\" y=\"-13.7\" font-family=\"Times,serif\" font-size=\"14.00\">data &#45;2.0000</text>\n",
       "<polyline fill=\"none\" stroke=\"black\" points=\"744.5,-1 744.5,-36.5\"/>\n",
       "<text text-anchor=\"middle\" x=\"785.12\" y=\"-13.7\" font-family=\"Times,serif\" font-size=\"14.00\">grad 4.0000</text>\n",
       "</g>\n",
       "<!-- 4953687472* -->\n",
       "<g id=\"node8\" class=\"node\">\n",
       "<title>4953687472*</title>\n",
       "<ellipse fill=\"none\" stroke=\"black\" cx=\"889.5\" cy=\"-45.5\" rx=\"27\" ry=\"18\"/>\n",
       "<text text-anchor=\"middle\" x=\"889.5\" y=\"-40.45\" font-family=\"Times,serif\" font-size=\"14.00\">*</text>\n",
       "</g>\n",
       "<!-- 4953687952&#45;&gt;4953687472* -->\n",
       "<g id=\"edge4\" class=\"edge\">\n",
       "<title>4953687952&#45;&gt;4953687472*</title>\n",
       "<path fill=\"none\" stroke=\"black\" d=\"M826,-34.6C835.14,-36.19 843.98,-37.73 852,-39.13\"/>\n",
       "<polygon fill=\"black\" stroke=\"black\" points=\"851.16,-42.54 861.62,-40.81 852.37,-35.64 851.16,-42.54\"/>\n",
       "</g>\n",
       "<!-- 4953938336 -->\n",
       "<g id=\"node5\" class=\"node\">\n",
       "<title>4953938336</title>\n",
       "<polygon fill=\"none\" stroke=\"black\" points=\"319.5,-83.5 319.5,-119.5 512.25,-119.5 512.25,-83.5 319.5,-83.5\"/>\n",
       "<text text-anchor=\"middle\" x=\"330.88\" y=\"-96.7\" font-family=\"Times,serif\" font-size=\"14.00\">d</text>\n",
       "<polyline fill=\"none\" stroke=\"black\" points=\"342.25,-84 342.25,-119.5\"/>\n",
       "<text text-anchor=\"middle\" x=\"384.38\" y=\"-96.7\" font-family=\"Times,serif\" font-size=\"14.00\">data &#45;6.0000</text>\n",
       "<polyline fill=\"none\" stroke=\"black\" points=\"426.5,-84 426.5,-119.5\"/>\n",
       "<text text-anchor=\"middle\" x=\"469.38\" y=\"-96.7\" font-family=\"Times,serif\" font-size=\"14.00\">grad &#45;2.0000</text>\n",
       "</g>\n",
       "<!-- 4953938336&#45;&gt;4953686992+ -->\n",
       "<g id=\"edge6\" class=\"edge\">\n",
       "<title>4953938336&#45;&gt;4953686992+</title>\n",
       "<path fill=\"none\" stroke=\"black\" d=\"M512.5,-84.57C521.49,-82.98 530.17,-81.44 538.07,-80.04\"/>\n",
       "<polygon fill=\"black\" stroke=\"black\" points=\"538.65,-83.49 547.88,-78.3 537.43,-76.6 538.65,-83.49\"/>\n",
       "</g>\n",
       "<!-- 4953938336*&#45;&gt;4953938336 -->\n",
       "<g id=\"edge1\" class=\"edge\">\n",
       "<title>4953938336*&#45;&gt;4953938336</title>\n",
       "<path fill=\"none\" stroke=\"black\" d=\"M283.22,-101.5C290.45,-101.5 298.76,-101.5 307.61,-101.5\"/>\n",
       "<polygon fill=\"black\" stroke=\"black\" points=\"307.55,-105 317.55,-101.5 307.55,-98 307.55,-105\"/>\n",
       "</g>\n",
       "<!-- 4953687472 -->\n",
       "<g id=\"node7\" class=\"node\">\n",
       "<title>4953687472</title>\n",
       "<polygon fill=\"none\" stroke=\"black\" points=\"952.5,-27.5 952.5,-63.5 1142.25,-63.5 1142.25,-27.5 952.5,-27.5\"/>\n",
       "<text text-anchor=\"middle\" x=\"964.62\" y=\"-40.7\" font-family=\"Times,serif\" font-size=\"14.00\">L</text>\n",
       "<polyline fill=\"none\" stroke=\"black\" points=\"976.75,-28 976.75,-63.5\"/>\n",
       "<text text-anchor=\"middle\" x=\"1018.88\" y=\"-40.7\" font-family=\"Times,serif\" font-size=\"14.00\">data &#45;8.0000</text>\n",
       "<polyline fill=\"none\" stroke=\"black\" points=\"1061,-28 1061,-63.5\"/>\n",
       "<text text-anchor=\"middle\" x=\"1101.62\" y=\"-40.7\" font-family=\"Times,serif\" font-size=\"14.00\">grad 0.0000</text>\n",
       "</g>\n",
       "<!-- 4953687472*&#45;&gt;4953687472 -->\n",
       "<g id=\"edge2\" class=\"edge\">\n",
       "<title>4953687472*&#45;&gt;4953687472</title>\n",
       "<path fill=\"none\" stroke=\"black\" d=\"M916.94,-45.5C924.09,-45.5 932.28,-45.5 940.99,-45.5\"/>\n",
       "<polygon fill=\"black\" stroke=\"black\" points=\"940.76,-49 950.76,-45.5 940.76,-42 940.76,-49\"/>\n",
       "</g>\n",
       "<!-- 4953686992 -->\n",
       "<g id=\"node9\" class=\"node\">\n",
       "<title>4953686992</title>\n",
       "<polygon fill=\"none\" stroke=\"black\" points=\"639,-55.5 639,-91.5 826.5,-91.5 826.5,-55.5 639,-55.5\"/>\n",
       "<text text-anchor=\"middle\" x=\"650\" y=\"-68.7\" font-family=\"Times,serif\" font-size=\"14.00\">e</text>\n",
       "<polyline fill=\"none\" stroke=\"black\" points=\"661,-56 661,-91.5\"/>\n",
       "<text text-anchor=\"middle\" x=\"700.88\" y=\"-68.7\" font-family=\"Times,serif\" font-size=\"14.00\">data 4.0000</text>\n",
       "<polyline fill=\"none\" stroke=\"black\" points=\"740.75,-56 740.75,-91.5\"/>\n",
       "<text text-anchor=\"middle\" x=\"783.62\" y=\"-68.7\" font-family=\"Times,serif\" font-size=\"14.00\">grad &#45;2.0000</text>\n",
       "</g>\n",
       "<!-- 4953686992&#45;&gt;4953687472* -->\n",
       "<g id=\"edge5\" class=\"edge\">\n",
       "<title>4953686992&#45;&gt;4953687472*</title>\n",
       "<path fill=\"none\" stroke=\"black\" d=\"M826.89,-56.65C835.65,-55.06 844.13,-53.53 851.84,-52.13\"/>\n",
       "<polygon fill=\"black\" stroke=\"black\" points=\"852.21,-55.62 861.43,-50.4 850.96,-48.73 852.21,-55.62\"/>\n",
       "</g>\n",
       "<!-- 4953686992+&#45;&gt;4953686992 -->\n",
       "<g id=\"edge3\" class=\"edge\">\n",
       "<title>4953686992+&#45;&gt;4953686992</title>\n",
       "<path fill=\"none\" stroke=\"black\" d=\"M603.25,-73.5C610.41,-73.5 618.62,-73.5 627.35,-73.5\"/>\n",
       "<polygon fill=\"black\" stroke=\"black\" points=\"627.14,-77 637.14,-73.5 627.14,-70 627.14,-77\"/>\n",
       "</g>\n",
       "</g>\n",
       "</svg>\n"
      ],
      "text/plain": [
       "<graphviz.graphs.Digraph at 0x127434760>"
      ]
     },
     "execution_count": 28,
     "metadata": {},
     "output_type": "execute_result"
    }
   ],
   "source": [
    "draw_dot(L)"
   ]
  },
  {
   "cell_type": "markdown",
   "metadata": {},
   "source": [
    "Para calcular 'backpropagation' lo que vamos a hacer es empezar desde 'L' y calcular el gradiente de todos los valores intermedios hasta el principio de la red.\n",
    "En 'backpropagation' lo que vamos a hacer es computar la derivada de cada uno de los nodos con respecto a L, debido a que 'L' es nuestro ouput final.\n",
    "\n",
    "Vamos a estar muy interesados en conocer la derivada de esta función de coste L con respecto a los pesos de la red neuronal."
   ]
  },
  {
   "cell_type": "markdown",
   "metadata": {},
   "source": [
    "Lo que vamos a ejecutar aquí abajo es un primer paso de optimización.\n",
    "Lo que estamos haciendo es actualizar los valores de nuestra red a través de su gradiente. "
   ]
  },
  {
   "cell_type": "code",
   "execution_count": 29,
   "metadata": {},
   "outputs": [
    {
     "name": "stdout",
     "output_type": "stream",
     "text": [
      "-7.286496\n"
     ]
    }
   ],
   "source": [
    "a.data += 0.01 * a.grad\n",
    "b.data += 0.01 * b.grad\n",
    "c.data += 0.01 * c.grad\n",
    "f.data += 0.01 * f.grad\n",
    "\n",
    "d = a * b\n",
    "e = d + c\n",
    "L = e * f\n",
    "\n",
    "print(L.data)"
   ]
  },
  {
   "cell_type": "code",
   "execution_count": 26,
   "metadata": {},
   "outputs": [
    {
     "name": "stdout",
     "output_type": "stream",
     "text": [
      "0.0\n"
     ]
    }
   ],
   "source": [
    "def lol():\n",
    "    \n",
    "    h = 0.001\n",
    "    \n",
    "    a = Value(2.0, label = 'a')\n",
    "    b = Value(-3.0, label = 'b')\n",
    "    c = Value(10.0, label = 'c')\n",
    "    d = a*b; d.label = 'd'\n",
    "    e = d + c; e.label = 'e'\n",
    "    f = Value(-2.0, label = 'f')\n",
    "    L = e * f; L.label = 'L'\n",
    "    L1 = L.data\n",
    "\n",
    "    a = Value(2.0, label = 'a')\n",
    "    b = Value(-3.0, label = 'b')\n",
    "    c = Value(10.0, label = 'c')\n",
    "    d = a*b; d.label = 'd'\n",
    "    e = d + c; e.label = 'e'\n",
    "    f = Value(-2.0, label = 'f')\n",
    "    L = e * f; L.label = 'L'\n",
    "    L2 = L.data\n",
    "\n",
    "    print((L2 - L1)/h)\n",
    "\n",
    "lol()"
   ]
  },
  {
   "cell_type": "markdown",
   "metadata": {},
   "source": [
    "L = e * f\n",
    "\n",
    "Queremos saber cuanto es dL/de = f\n",
    "\n",
    "Sabemos que la notación de la derivada es:\n",
    "(f(x+h) - f(x))/h\n",
    "\n",
    "Entonces:\n",
    "((e+h)*f - e*f)/h\n",
    "(e*f + h*f - e*f)/h\n",
    "h*f/h\n",
    "f\n",
    "\n",
    "Por tanto, por regla de 3, si dL/de = f, dL/df = e.\n",
    "\n",
    "Los pesos quedarían actualizados de la siguiente forma:\n",
    "- W_nuevo = W_viejo - alpha * dL/dW -> Esto es si queremos actualizar el peso de la neurona correspondiente a e. | alpha = Learning rate."
   ]
  },
  {
   "cell_type": "markdown",
   "metadata": {},
   "source": [
    "Sí queremos saber cuanto es dL/dc, tenemos que hacer la regla de la cadena, es decir: dL/dc = dL/dd * dd/dc.\n",
    "Por tanto, primero tenemos que saber cuanot es dd/dc.\n",
    "\n",
    "d = c + e; la derivada de esto con respecto a c = 1.0.\n",
    "\n",
    "(f(x+h) - f(x)/h) -> Definición de la derivada.\n",
    "\n",
    "((c + h + e) - (c+e))/h\n",
    "\n",
    "(c + h + e - c - e) / h\n",
    "\n",
    "h / h = 1.0\n",
    "\n",
    "Por tanto, ya sabemos que dd/dc = 1.0, con lo cual dd/de = 1.0. -> Estas serían derivadas locales.\n",
    "\n",
    "Por otro lado, la notación de la regla de la cadena es: f'(g(x)) * g'(x)\n",
    "\n",
    "Al tener ya las derivadas locales, esto sería tan fácil como hacer: \n",
    "dL/dc = dL/de * de/dc -> dL/dc = -2 * 1 = -2.0"
   ]
  },
  {
   "cell_type": "markdown",
   "metadata": {},
   "source": [
    "Si quisiéramos ir más atrás, deberíamos de continuar con la regla de la cadena. \n",
    "\n",
    "En la primera capa tenemos a y b.\n",
    "\n",
    "Para obtener dL/da deberíamos de obtener:\n",
    "- dL/de, de/dd, dd/da.\n",
    "\n",
    "Ahora mismo lo que nos interesa saber es cuanto es dc/da.\n",
    "\n",
    "d = a * b\n",
    "\n",
    "Por tanto:\n",
    "- dd/da = b.\n",
    "- dd/db = a.\n",
    "\n",
    "Haciendo la regla de la cadena, sería:\n",
    "\n",
    "dL/da = dL/de * de/dd * dd/da -> -2 * 1 * (-3) = 6.0\n",
    "\n",
    "dL/db = dL/de * de/dd * dd/da -> -2 * 1 * (2) = -4.0\n"
   ]
  },
  {
   "cell_type": "code",
   "execution_count": 33,
   "metadata": {},
   "outputs": [
    {
     "data": {
      "image/png": "[encoded data removed]",
      "text/plain": [
       "<Figure size 640x480 with 1 Axes>"
      ]
     },
     "metadata": {},
     "output_type": "display_data"
    }
   ],
   "source": [
    "plt.plot(np.arange(-5, 5, 0.25), np.tanh(np.arange(-5, 5, 0.25))); plt.grid();\n",
    "plt.title('Función de activación tanh')\n",
    "plt.show()"
   ]
  },
  {
   "cell_type": "markdown",
   "metadata": {},
   "source": [
    "Podemos ver que el rango de esta función es [-1, 1]"
   ]
  },
  {
   "cell_type": "code",
   "execution_count": 40,
   "metadata": {},
   "outputs": [
    {
     "data": {
      "image/svg+xml": [
       "<?xml version=\"1.0\" encoding=\"UTF-8\" standalone=\"no\"?>\n",
       "<!DOCTYPE svg PUBLIC \"-//W3C//DTD SVG 1.1//EN\"\n",
       " \"http://www.w3.org/Graphics/SVG/1.1/DTD/svg11.dtd\">\n",
       "<!-- Generated by graphviz version 11.0.0 (20240428.1522)\n",
       " -->\n",
       "<!-- Pages: 1 -->\n",
       "<svg width=\"1550pt\" height=\"210pt\"\n",
       " viewBox=\"0.00 0.00 1550.00 210.00\" xmlns=\"http://www.w3.org/2000/svg\" xmlns:xlink=\"http://www.w3.org/1999/xlink\">\n",
       "<g id=\"graph0\" class=\"graph\" transform=\"scale(1 1) rotate(0) translate(4 206)\">\n",
       "<polygon fill=\"white\" stroke=\"none\" points=\"-4,4 -4,-206 1546,-206 1546,4 -4,4\"/>\n",
       "<!-- 4960412672 -->\n",
       "<g id=\"node1\" class=\"node\">\n",
       "<title>4960412672</title>\n",
       "<polygon fill=\"none\" stroke=\"black\" points=\"3.75,-165.5 3.75,-201.5 194.25,-201.5 194.25,-165.5 3.75,-165.5\"/>\n",
       "<text text-anchor=\"middle\" x=\"18.5\" y=\"-178.7\" font-family=\"Times,serif\" font-size=\"14.00\">x2</text>\n",
       "<polyline fill=\"none\" stroke=\"black\" points=\"33.25,-166 33.25,-201.5\"/>\n",
       "<text text-anchor=\"middle\" x=\"73.12\" y=\"-178.7\" font-family=\"Times,serif\" font-size=\"14.00\">data 0.0000</text>\n",
       "<polyline fill=\"none\" stroke=\"black\" points=\"113,-166 113,-201.5\"/>\n",
       "<text text-anchor=\"middle\" x=\"153.62\" y=\"-178.7\" font-family=\"Times,serif\" font-size=\"14.00\">grad 0.0000</text>\n",
       "</g>\n",
       "<!-- 4960376912* -->\n",
       "<g id=\"node3\" class=\"node\">\n",
       "<title>4960376912*</title>\n",
       "<ellipse fill=\"none\" stroke=\"black\" cx=\"261\" cy=\"-128.5\" rx=\"27\" ry=\"18\"/>\n",
       "<text text-anchor=\"middle\" x=\"261\" y=\"-123.45\" font-family=\"Times,serif\" font-size=\"14.00\">*</text>\n",
       "</g>\n",
       "<!-- 4960412672&#45;&gt;4960376912* -->\n",
       "<g id=\"edge13\" class=\"edge\">\n",
       "<title>4960412672&#45;&gt;4960376912*</title>\n",
       "<path fill=\"none\" stroke=\"black\" d=\"M172.12,-165.01C180.9,-162.35 189.7,-159.5 198,-156.5 208.09,-152.86 218.82,-148.27 228.47,-143.88\"/>\n",
       "<polygon fill=\"black\" stroke=\"black\" points=\"229.86,-147.09 237.45,-139.69 226.9,-140.75 229.86,-147.09\"/>\n",
       "</g>\n",
       "<!-- 4960376912 -->\n",
       "<g id=\"node2\" class=\"node\">\n",
       "<title>4960376912</title>\n",
       "<polygon fill=\"none\" stroke=\"black\" points=\"326.25,-110.5 326.25,-146.5 540,-146.5 540,-110.5 326.25,-110.5\"/>\n",
       "<text text-anchor=\"middle\" x=\"352.62\" y=\"-123.7\" font-family=\"Times,serif\" font-size=\"14.00\">x2*w2</text>\n",
       "<polyline fill=\"none\" stroke=\"black\" points=\"379,-111 379,-146.5\"/>\n",
       "<text text-anchor=\"middle\" x=\"418.88\" y=\"-123.7\" font-family=\"Times,serif\" font-size=\"14.00\">data 0.0000</text>\n",
       "<polyline fill=\"none\" stroke=\"black\" points=\"458.75,-111 458.75,-146.5\"/>\n",
       "<text text-anchor=\"middle\" x=\"499.38\" y=\"-123.7\" font-family=\"Times,serif\" font-size=\"14.00\">grad 0.0000</text>\n",
       "</g>\n",
       "<!-- 4960375472+ -->\n",
       "<g id=\"node6\" class=\"node\">\n",
       "<title>4960375472+</title>\n",
       "<ellipse fill=\"none\" stroke=\"black\" cx=\"605.25\" cy=\"-100.5\" rx=\"27\" ry=\"18\"/>\n",
       "<text text-anchor=\"middle\" x=\"605.25\" y=\"-95.45\" font-family=\"Times,serif\" font-size=\"14.00\">+</text>\n",
       "</g>\n",
       "<!-- 4960376912&#45;&gt;4960375472+ -->\n",
       "<g id=\"edge7\" class=\"edge\">\n",
       "<title>4960376912&#45;&gt;4960375472+</title>\n",
       "<path fill=\"none\" stroke=\"black\" d=\"M540.42,-111.01C549.89,-109.45 559,-107.95 567.21,-106.6\"/>\n",
       "<polygon fill=\"black\" stroke=\"black\" points=\"567.75,-110.05 577.05,-104.98 566.62,-103.15 567.75,-110.05\"/>\n",
       "</g>\n",
       "<!-- 4960376912*&#45;&gt;4960376912 -->\n",
       "<g id=\"edge1\" class=\"edge\">\n",
       "<title>4960376912*&#45;&gt;4960376912</title>\n",
       "<path fill=\"none\" stroke=\"black\" d=\"M288.21,-128.5C296,-128.5 305.08,-128.5 314.82,-128.5\"/>\n",
       "<polygon fill=\"black\" stroke=\"black\" points=\"314.55,-132 324.55,-128.5 314.55,-125 314.55,-132\"/>\n",
       "</g>\n",
       "<!-- 4960374944 -->\n",
       "<g id=\"node4\" class=\"node\">\n",
       "<title>4960374944</title>\n",
       "<polygon fill=\"none\" stroke=\"black\" points=\"3.75,-55.5 3.75,-91.5 194.25,-91.5 194.25,-55.5 3.75,-55.5\"/>\n",
       "<text text-anchor=\"middle\" x=\"18.5\" y=\"-68.7\" font-family=\"Times,serif\" font-size=\"14.00\">x1</text>\n",
       "<polyline fill=\"none\" stroke=\"black\" points=\"33.25,-56 33.25,-91.5\"/>\n",
       "<text text-anchor=\"middle\" x=\"73.12\" y=\"-68.7\" font-family=\"Times,serif\" font-size=\"14.00\">data 2.0000</text>\n",
       "<polyline fill=\"none\" stroke=\"black\" points=\"113,-56 113,-91.5\"/>\n",
       "<text text-anchor=\"middle\" x=\"153.62\" y=\"-68.7\" font-family=\"Times,serif\" font-size=\"14.00\">grad 0.0000</text>\n",
       "</g>\n",
       "<!-- 4960377056* -->\n",
       "<g id=\"node10\" class=\"node\">\n",
       "<title>4960377056*</title>\n",
       "<ellipse fill=\"none\" stroke=\"black\" cx=\"261\" cy=\"-73.5\" rx=\"27\" ry=\"18\"/>\n",
       "<text text-anchor=\"middle\" x=\"261\" y=\"-68.45\" font-family=\"Times,serif\" font-size=\"14.00\">*</text>\n",
       "</g>\n",
       "<!-- 4960374944&#45;&gt;4960377056* -->\n",
       "<g id=\"edge8\" class=\"edge\">\n",
       "<title>4960374944&#45;&gt;4960377056*</title>\n",
       "<path fill=\"none\" stroke=\"black\" d=\"M194.46,-73.5C204.21,-73.5 213.66,-73.5 222.21,-73.5\"/>\n",
       "<polygon fill=\"black\" stroke=\"black\" points=\"222.12,-77 232.12,-73.5 222.12,-70 222.12,-77\"/>\n",
       "</g>\n",
       "<!-- 4960375472 -->\n",
       "<g id=\"node5\" class=\"node\">\n",
       "<title>4960375472</title>\n",
       "<polygon fill=\"none\" stroke=\"black\" points=\"668.25,-82.5 668.25,-118.5 925.5,-118.5 925.5,-82.5 668.25,-82.5\"/>\n",
       "<text text-anchor=\"middle\" x=\"714.12\" y=\"-95.7\" font-family=\"Times,serif\" font-size=\"14.00\">x1w1 + x2w2</text>\n",
       "<polyline fill=\"none\" stroke=\"black\" points=\"760,-83 760,-118.5\"/>\n",
       "<text text-anchor=\"middle\" x=\"802.12\" y=\"-95.7\" font-family=\"Times,serif\" font-size=\"14.00\">data &#45;6.0000</text>\n",
       "<polyline fill=\"none\" stroke=\"black\" points=\"844.25,-83 844.25,-118.5\"/>\n",
       "<text text-anchor=\"middle\" x=\"884.88\" y=\"-95.7\" font-family=\"Times,serif\" font-size=\"14.00\">grad 0.0000</text>\n",
       "</g>\n",
       "<!-- 4960493520+ -->\n",
       "<g id=\"node15\" class=\"node\">\n",
       "<title>4960493520+</title>\n",
       "<ellipse fill=\"none\" stroke=\"black\" cx=\"988.5\" cy=\"-72.5\" rx=\"27\" ry=\"18\"/>\n",
       "<text text-anchor=\"middle\" x=\"988.5\" y=\"-67.45\" font-family=\"Times,serif\" font-size=\"14.00\">+</text>\n",
       "</g>\n",
       "<!-- 4960375472&#45;&gt;4960493520+ -->\n",
       "<g id=\"edge12\" class=\"edge\">\n",
       "<title>4960375472&#45;&gt;4960493520+</title>\n",
       "<path fill=\"none\" stroke=\"black\" d=\"M923.04,-82.02C932.9,-80.56 942.28,-79.18 950.67,-77.94\"/>\n",
       "<polygon fill=\"black\" stroke=\"black\" points=\"950.94,-81.44 960.33,-76.51 949.92,-74.51 950.94,-81.44\"/>\n",
       "</g>\n",
       "<!-- 4960375472+&#45;&gt;4960375472 -->\n",
       "<g id=\"edge2\" class=\"edge\">\n",
       "<title>4960375472+&#45;&gt;4960375472</title>\n",
       "<path fill=\"none\" stroke=\"black\" d=\"M632.62,-100.5C639.63,-100.5 647.71,-100.5 656.45,-100.5\"/>\n",
       "<polygon fill=\"black\" stroke=\"black\" points=\"656.32,-104 666.32,-100.5 656.32,-97 656.32,-104\"/>\n",
       "</g>\n",
       "<!-- 4960492752 -->\n",
       "<g id=\"node7\" class=\"node\">\n",
       "<title>4960492752</title>\n",
       "<polygon fill=\"none\" stroke=\"black\" points=\"1361.25,-54.5 1361.25,-90.5 1542,-90.5 1542,-54.5 1361.25,-54.5\"/>\n",
       "<text text-anchor=\"middle\" x=\"1371.12\" y=\"-67.7\" font-family=\"Times,serif\" font-size=\"14.00\"> </text>\n",
       "<polyline fill=\"none\" stroke=\"black\" points=\"1381,-55 1381,-90.5\"/>\n",
       "<text text-anchor=\"middle\" x=\"1420.88\" y=\"-67.7\" font-family=\"Times,serif\" font-size=\"14.00\">data 0.7071</text>\n",
       "<polyline fill=\"none\" stroke=\"black\" points=\"1460.75,-55 1460.75,-90.5\"/>\n",
       "<text text-anchor=\"middle\" x=\"1501.38\" y=\"-67.7\" font-family=\"Times,serif\" font-size=\"14.00\">grad 0.0000</text>\n",
       "</g>\n",
       "<!-- 4960492752tanh -->\n",
       "<g id=\"node8\" class=\"node\">\n",
       "<title>4960492752tanh</title>\n",
       "<ellipse fill=\"none\" stroke=\"black\" cx=\"1298.25\" cy=\"-72.5\" rx=\"27\" ry=\"18\"/>\n",
       "<text text-anchor=\"middle\" x=\"1298.25\" y=\"-67.45\" font-family=\"Times,serif\" font-size=\"14.00\">tanh</text>\n",
       "</g>\n",
       "<!-- 4960492752tanh&#45;&gt;4960492752 -->\n",
       "<g id=\"edge3\" class=\"edge\">\n",
       "<title>4960492752tanh&#45;&gt;4960492752</title>\n",
       "<path fill=\"none\" stroke=\"black\" d=\"M1325.62,-72.5C1332.76,-72.5 1340.95,-72.5 1349.64,-72.5\"/>\n",
       "<polygon fill=\"black\" stroke=\"black\" points=\"1349.36,-76 1359.36,-72.5 1349.36,-69 1349.36,-76\"/>\n",
       "</g>\n",
       "<!-- 4960377056 -->\n",
       "<g id=\"node9\" class=\"node\">\n",
       "<title>4960377056</title>\n",
       "<polygon fill=\"none\" stroke=\"black\" points=\"324,-55.5 324,-91.5 542.25,-91.5 542.25,-55.5 324,-55.5\"/>\n",
       "<text text-anchor=\"middle\" x=\"350.38\" y=\"-68.7\" font-family=\"Times,serif\" font-size=\"14.00\">x1*w1</text>\n",
       "<polyline fill=\"none\" stroke=\"black\" points=\"376.75,-56 376.75,-91.5\"/>\n",
       "<text text-anchor=\"middle\" x=\"418.88\" y=\"-68.7\" font-family=\"Times,serif\" font-size=\"14.00\">data &#45;6.0000</text>\n",
       "<polyline fill=\"none\" stroke=\"black\" points=\"461,-56 461,-91.5\"/>\n",
       "<text text-anchor=\"middle\" x=\"501.62\" y=\"-68.7\" font-family=\"Times,serif\" font-size=\"14.00\">grad 0.0000</text>\n",
       "</g>\n",
       "<!-- 4960377056&#45;&gt;4960375472+ -->\n",
       "<g id=\"edge14\" class=\"edge\">\n",
       "<title>4960377056&#45;&gt;4960375472+</title>\n",
       "<path fill=\"none\" stroke=\"black\" d=\"M542.35,-90.68C551.12,-92.07 559.54,-93.4 567.19,-94.62\"/>\n",
       "<polygon fill=\"black\" stroke=\"black\" points=\"566.59,-98.07 577.02,-96.18 567.69,-91.15 566.59,-98.07\"/>\n",
       "</g>\n",
       "<!-- 4960377056*&#45;&gt;4960377056 -->\n",
       "<g id=\"edge4\" class=\"edge\">\n",
       "<title>4960377056*&#45;&gt;4960377056</title>\n",
       "<path fill=\"none\" stroke=\"black\" d=\"M288.21,-73.5C295.29,-73.5 303.43,-73.5 312.17,-73.5\"/>\n",
       "<polygon fill=\"black\" stroke=\"black\" points=\"312.01,-77 322.01,-73.5 312.01,-70 312.01,-77\"/>\n",
       "</g>\n",
       "<!-- 4960376624 -->\n",
       "<g id=\"node11\" class=\"node\">\n",
       "<title>4960376624</title>\n",
       "<polygon fill=\"none\" stroke=\"black\" points=\"705,-27.5 705,-63.5 888.75,-63.5 888.75,-27.5 705,-27.5\"/>\n",
       "<text text-anchor=\"middle\" x=\"716.38\" y=\"-40.7\" font-family=\"Times,serif\" font-size=\"14.00\">b</text>\n",
       "<polyline fill=\"none\" stroke=\"black\" points=\"727.75,-28 727.75,-63.5\"/>\n",
       "<text text-anchor=\"middle\" x=\"767.62\" y=\"-40.7\" font-family=\"Times,serif\" font-size=\"14.00\">data 6.8814</text>\n",
       "<polyline fill=\"none\" stroke=\"black\" points=\"807.5,-28 807.5,-63.5\"/>\n",
       "<text text-anchor=\"middle\" x=\"848.12\" y=\"-40.7\" font-family=\"Times,serif\" font-size=\"14.00\">grad 0.0000</text>\n",
       "</g>\n",
       "<!-- 4960376624&#45;&gt;4960493520+ -->\n",
       "<g id=\"edge6\" class=\"edge\">\n",
       "<title>4960376624&#45;&gt;4960493520+</title>\n",
       "<path fill=\"none\" stroke=\"black\" d=\"M889.08,-58.49C910.92,-61.6 933.02,-64.74 950.73,-67.26\"/>\n",
       "<polygon fill=\"black\" stroke=\"black\" points=\"950.07,-70.71 960.46,-68.65 951.05,-63.78 950.07,-70.71\"/>\n",
       "</g>\n",
       "<!-- 4960377776 -->\n",
       "<g id=\"node12\" class=\"node\">\n",
       "<title>4960377776</title>\n",
       "<polygon fill=\"none\" stroke=\"black\" points=\"0,-0.5 0,-36.5 198,-36.5 198,-0.5 0,-0.5\"/>\n",
       "<text text-anchor=\"middle\" x=\"16.25\" y=\"-13.7\" font-family=\"Times,serif\" font-size=\"14.00\">w1</text>\n",
       "<polyline fill=\"none\" stroke=\"black\" points=\"32.5,-1 32.5,-36.5\"/>\n",
       "<text text-anchor=\"middle\" x=\"74.62\" y=\"-13.7\" font-family=\"Times,serif\" font-size=\"14.00\">data &#45;3.0000</text>\n",
       "<polyline fill=\"none\" stroke=\"black\" points=\"116.75,-1 116.75,-36.5\"/>\n",
       "<text text-anchor=\"middle\" x=\"157.38\" y=\"-13.7\" font-family=\"Times,serif\" font-size=\"14.00\">grad 0.0000</text>\n",
       "</g>\n",
       "<!-- 4960377776&#45;&gt;4960377056* -->\n",
       "<g id=\"edge9\" class=\"edge\">\n",
       "<title>4960377776&#45;&gt;4960377056*</title>\n",
       "<path fill=\"none\" stroke=\"black\" d=\"M172.12,-36.99C180.9,-39.65 189.7,-42.5 198,-45.5 208.09,-49.14 218.82,-53.73 228.47,-58.12\"/>\n",
       "<polygon fill=\"black\" stroke=\"black\" points=\"226.9,-61.25 237.45,-62.31 229.86,-54.91 226.9,-61.25\"/>\n",
       "</g>\n",
       "<!-- 4960375760 -->\n",
       "<g id=\"node13\" class=\"node\">\n",
       "<title>4960375760</title>\n",
       "<polygon fill=\"none\" stroke=\"black\" points=\"2.25,-110.5 2.25,-146.5 195.75,-146.5 195.75,-110.5 2.25,-110.5\"/>\n",
       "<text text-anchor=\"middle\" x=\"18.5\" y=\"-123.7\" font-family=\"Times,serif\" font-size=\"14.00\">w2</text>\n",
       "<polyline fill=\"none\" stroke=\"black\" points=\"34.75,-111 34.75,-146.5\"/>\n",
       "<text text-anchor=\"middle\" x=\"74.62\" y=\"-123.7\" font-family=\"Times,serif\" font-size=\"14.00\">data 1.0000</text>\n",
       "<polyline fill=\"none\" stroke=\"black\" points=\"114.5,-111 114.5,-146.5\"/>\n",
       "<text text-anchor=\"middle\" x=\"155.12\" y=\"-123.7\" font-family=\"Times,serif\" font-size=\"14.00\">grad 0.0000</text>\n",
       "</g>\n",
       "<!-- 4960375760&#45;&gt;4960376912* -->\n",
       "<g id=\"edge10\" class=\"edge\">\n",
       "<title>4960375760&#45;&gt;4960376912*</title>\n",
       "<path fill=\"none\" stroke=\"black\" d=\"M195.84,-128.5C205.14,-128.5 214.15,-128.5 222.32,-128.5\"/>\n",
       "<polygon fill=\"black\" stroke=\"black\" points=\"222.13,-132 232.13,-128.5 222.13,-125 222.13,-132\"/>\n",
       "</g>\n",
       "<!-- 4960493520 -->\n",
       "<g id=\"node14\" class=\"node\">\n",
       "<title>4960493520</title>\n",
       "<polygon fill=\"none\" stroke=\"black\" points=\"1051.5,-54.5 1051.5,-90.5 1235.25,-90.5 1235.25,-54.5 1051.5,-54.5\"/>\n",
       "<text text-anchor=\"middle\" x=\"1062.88\" y=\"-67.7\" font-family=\"Times,serif\" font-size=\"14.00\">n</text>\n",
       "<polyline fill=\"none\" stroke=\"black\" points=\"1074.25,-55 1074.25,-90.5\"/>\n",
       "<text text-anchor=\"middle\" x=\"1114.12\" y=\"-67.7\" font-family=\"Times,serif\" font-size=\"14.00\">data 0.8814</text>\n",
       "<polyline fill=\"none\" stroke=\"black\" points=\"1154,-55 1154,-90.5\"/>\n",
       "<text text-anchor=\"middle\" x=\"1194.62\" y=\"-67.7\" font-family=\"Times,serif\" font-size=\"14.00\">grad 0.0000</text>\n",
       "</g>\n",
       "<!-- 4960493520&#45;&gt;4960492752tanh -->\n",
       "<g id=\"edge11\" class=\"edge\">\n",
       "<title>4960493520&#45;&gt;4960492752tanh</title>\n",
       "<path fill=\"none\" stroke=\"black\" d=\"M1235.51,-72.5C1243.89,-72.5 1252.02,-72.5 1259.48,-72.5\"/>\n",
       "<polygon fill=\"black\" stroke=\"black\" points=\"1259.45,-76 1269.45,-72.5 1259.45,-69 1259.45,-76\"/>\n",
       "</g>\n",
       "<!-- 4960493520+&#45;&gt;4960493520 -->\n",
       "<g id=\"edge5\" class=\"edge\">\n",
       "<title>4960493520+&#45;&gt;4960493520</title>\n",
       "<path fill=\"none\" stroke=\"black\" d=\"M1015.78,-72.5C1022.92,-72.5 1031.11,-72.5 1039.82,-72.5\"/>\n",
       "<polygon fill=\"black\" stroke=\"black\" points=\"1039.56,-76 1049.56,-72.5 1039.56,-69 1039.56,-76\"/>\n",
       "</g>\n",
       "</g>\n",
       "</svg>\n"
      ],
      "text/plain": [
       "<graphviz.graphs.Digraph at 0x127ab1550>"
      ]
     },
     "execution_count": 40,
     "metadata": {},
     "output_type": "execute_result"
    }
   ],
   "source": [
    "# inputs x1, x2.\n",
    "x1 = Value(2.0, label = 'x1')\n",
    "x2 = Value(0.0, label = 'x2')\n",
    "# weights w1, w2.\n",
    "w1 = Value(-3.0, label = 'w1')\n",
    "w2 = Value(1.0, label = 'w2')\n",
    "# bias of the neuron.\n",
    "b = Value(6.8813735870195432, label = 'b')\n",
    "# x1*w1 + x2*w2 + b\n",
    "x1w1 = x1*w1; x1w1.label = 'x1*w1'\n",
    "x2w2 = x2*w2; x2w2.label = 'x2*w2'\n",
    "x1w1x2w2 = x1w1 + x2w2; x1w1x2w2.label = 'x1w1 + x2w2'\n",
    "n = x1w1x2w2 + b; n.label = 'n'\n",
    "\n",
    "o = n.tanh()\n",
    "\n",
    "draw_dot(o)"
   ]
  },
  {
   "cell_type": "code",
   "execution_count": null,
   "metadata": {},
   "outputs": [],
   "source": []
  }
 ],
 "metadata": {
  "kernelspec": {
   "display_name": "Python 3",
   "language": "python",
   "name": "python3"
  },
  "language_info": {
   "codemirror_mode": {
    "name": "ipython",
    "version": 3
   },
   "file_extension": ".py",
   "mimetype": "text/x-python",
   "name": "python",
   "nbconvert_exporter": "python",
   "pygments_lexer": "ipython3",
   "version": "3.9.6"
  }
 },
 "nbformat": 4,
 "nbformat_minor": 2
}
